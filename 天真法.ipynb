{
  "nbformat": 4,
  "nbformat_minor": 0,
  "metadata": {
    "colab": {
      "provenance": [],
      "gpuType": "T4"
    },
    "kernelspec": {
      "name": "python3",
      "display_name": "Python 3"
    },
    "language_info": {
      "name": "python"
    },
    "accelerator": "GPU"
  },
  "cells": [
    {
      "cell_type": "code",
      "execution_count": 5,
      "metadata": {
        "colab": {
          "base_uri": "https://localhost:8080/"
        },
        "id": "ycHGgzzHzQVv",
        "outputId": "37e3cbe8-eb6f-4f8e-8b6a-5aacebf6ef13"
      },
      "outputs": [
        {
          "output_type": "stream",
          "name": "stdout",
          "text": [
            "SMAPE: 2.3815112029645786\n",
            "RAE: 0.15610820065965259\n",
            "MRAE: 0.00020649232891488438\n",
            "MdRAE: 0.13660522346144754\n",
            "RSE: 0.029265886237215547\n",
            "RRSE: 0.1710727512996022\n",
            "MAPE: 2.382995011225615\n"
          ]
        }
      ],
      "source": [
        "import pandas as pd\n",
        "import numpy as np\n",
        "\n",
        "# 讀取資料\n",
        "data = pd.read_csv('/content/GOLD.csv')  # 假設你的資料存儲在名為your_data.csv的檔案中\n",
        "prices = data['Y'].values\n",
        "\n",
        "# 天真法預測\n",
        "predictions = [prices[0]]  # 將第一個價格作為初始預測\n",
        "\n",
        "for i in range(1, len(prices)):\n",
        "    predictions.append(prices[i-1])  # 使用前一天的價格作為當天的預測\n",
        "\n",
        "# 計算評估指標\n",
        "def SMAPE_calculate(y_true, y_pred):\n",
        "    n = len(y_true)\n",
        "    SMAPE = (100 / n) * np.sum(2 * np.abs(y_pred - y_true) / (np.abs(y_pred) + np.abs(y_true)))\n",
        "    return SMAPE\n",
        "\n",
        "def RAE_calculate(y_true, y_pred):\n",
        "    abs_errors = np.abs(y_true - y_pred)\n",
        "    denominator = np.sum(np.abs(y_true - np.mean(y_true)))\n",
        "    RAE = np.sum(abs_errors / denominator)\n",
        "    return RAE\n",
        "\n",
        "def MRAE_calculate(y_true, y_pred):\n",
        "    n = len(y_true)\n",
        "    abs_errors = np.abs(y_true - y_pred)\n",
        "    denominator = np.sum(np.abs(y_true - np.mean(y_true)))\n",
        "    RAE = np.sum(abs_errors / denominator)\n",
        "    MRAE = RAE / n\n",
        "    return MRAE\n",
        "\n",
        "def MdRAE_calculate(y_true, y_pred, bench=None):\n",
        "    if bench == None:\n",
        "        bench = np.mean(y_true)\n",
        "        MdRAE = np.median(np.abs(y_true - y_pred) / np.abs(y_true - bench))\n",
        "        return MdRAE, bench\n",
        "    else:\n",
        "        MdRAE = np.median(np.abs(y_true - y_pred) / np.abs(y_true - bench))\n",
        "        return MdRAE\n",
        "\n",
        "def RSE_calculate(y_true, y_pred, Root=False):\n",
        "    mse = np.mean((y_true - y_pred)**2)\n",
        "    denominator = np.var(y_true)\n",
        "    RSE = mse / denominator\n",
        "\n",
        "    if Root == True:\n",
        "        return np.sqrt(RSE)\n",
        "    else:\n",
        "        return RSE\n",
        "\n",
        "def MAPE_calculate(y_true, y_pred):\n",
        "    n = len(y_true)\n",
        "    MAPE = (100 / n) * np.sum(np.abs((y_true - y_pred) / y_true))\n",
        "    return MAPE\n",
        "\n",
        "# 計算評估指標\n",
        "actual_prices = prices[1:]  # 實際價格，從第二天開始\n",
        "predictions = predictions[:-1]  # 將預測值的最後一個刪除，使其與實際價格長度一致\n",
        "\n",
        "smape = SMAPE_calculate(actual_prices, predictions)\n",
        "rae = RAE_calculate(actual_prices, predictions)\n",
        "mrae = MRAE_calculate(actual_prices, predictions)\n",
        "mdrae, bench = MdRAE_calculate(actual_prices, predictions)\n",
        "rse = RSE_calculate(actual_prices, predictions)\n",
        "rrse = RSE_calculate(actual_prices, predictions, Root=True)\n",
        "mape = MAPE_calculate(actual_prices, predictions)\n",
        "# 印出評估指標\n",
        "\n",
        "print(\"SMAPE:\", smape)\n",
        "print(\"RAE:\", rae)\n",
        "print(\"MRAE:\", mrae)\n",
        "print(\"MdRAE:\", mdrae)\n",
        "print(\"RSE:\", rse)\n",
        "print(\"RRSE:\", rrse)\n",
        "print(\"MAPE:\", mape)"
      ]
    }
  ]
}