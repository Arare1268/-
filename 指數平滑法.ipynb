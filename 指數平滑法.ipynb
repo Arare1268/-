{
  "nbformat": 4,
  "nbformat_minor": 0,
  "metadata": {
    "colab": {
      "provenance": []
    },
    "kernelspec": {
      "name": "python3",
      "display_name": "Python 3"
    },
    "language_info": {
      "name": "python"
    }
  },
  "cells": [
    {
      "cell_type": "code",
      "execution_count": 11,
      "metadata": {
        "colab": {
          "base_uri": "https://localhost:8080/"
        },
        "id": "APat2zQc7jvE",
        "outputId": "74022c1c-264d-4733-ad94-a6abd578f62d"
      },
      "outputs": [
        {
          "output_type": "stream",
          "name": "stdout",
          "text": [
            "SMAPE: 2.8308510505377305\n",
            "RAE: 0.18446900871923888\n",
            "MRAE: 0.00024400662528999853\n",
            "MdRAE: 0.18097185532697319\n",
            "Benchmark: 20.927407436507934\n",
            "RSE: 0.037193230678087344\n",
            "RRSE: 0.1928554657718763\n",
            "MAPE: 2.8410313358680366\n"
          ]
        }
      ],
      "source": [
        "import numpy as np\n",
        "import pandas as pd\n",
        "\n",
        "# 指數平滑法預測函數\n",
        "def exponential_smoothing_forecast(data, alpha):\n",
        "    forecast = [data[0]]  # 初始預測值為第一個觀測值\n",
        "    for i in range(1, len(data)):\n",
        "        forecast.append(alpha * data[i] + (1 - alpha) * forecast[i-1])\n",
        "    return forecast\n",
        "\n",
        "# 計算評估指標\n",
        "\n",
        "# 讀取資料檔案\n",
        "data = pd.read_csv('/content/GOLD.csv')\n",
        "\n",
        "# 提取價格資料\n",
        "prices = data['Y'].values\n",
        "\n",
        "# 指數平滑法預測\n",
        "alpha = 0.2  # 平滑係數\n",
        "exponential_smoothing_predictions = exponential_smoothing_forecast(prices, alpha)\n",
        "\n",
        "# 實際價格\n",
        "actual_prices = prices[1:]  # 調整實際價格的長度，去除第一個值\n",
        "\n",
        "# 調整指數平滑法的預測結果長度\n",
        "exponential_smoothing_predictions = exponential_smoothing_predictions[:-1]  # 調整預測結果的長度，去除最後一個值\n",
        "\n",
        "# 計算評估指標\n",
        "smape = SMAPE_calculate(actual_prices, exponential_smoothing_predictions)\n",
        "rae = RAE_calculate(actual_prices, exponential_smoothing_predictions)\n",
        "mrae = MRAE_calculate(actual_prices, exponential_smoothing_predictions)\n",
        "mdrae, bench = MdRAE_calculate(actual_prices, exponential_smoothing_predictions)\n",
        "rse = RSE_calculate(actual_prices, exponential_smoothing_predictions)\n",
        "rrse = RSE_calculate(actual_prices, exponential_smoothing_predictions, Root=True)\n",
        "mape = np.mean(np.abs((actual_prices - exponential_smoothing_predictions) / actual_prices)) * 100\n",
        "\n",
        "# 印出評估結果\n",
        "print(\"SMAPE:\", smape)\n",
        "print(\"RAE:\", rae)\n",
        "print(\"MRAE:\", mrae)\n",
        "print(\"MdRAE:\", mdrae)\n",
        "print(\"Benchmark:\", bench)\n",
        "print(\"RSE:\", rse)\n",
        "print(\"RRSE:\", rrse)\n",
        "print(\"MAPE:\", mape)\n"
      ]
    }
  ]
}