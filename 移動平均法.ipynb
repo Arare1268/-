{
  "nbformat": 4,
  "nbformat_minor": 0,
  "metadata": {
    "colab": {
      "provenance": []
    },
    "kernelspec": {
      "name": "python3",
      "display_name": "Python 3"
    },
    "language_info": {
      "name": "python"
    }
  },
  "cells": [
    {
      "cell_type": "code",
      "execution_count": 10,
      "metadata": {
        "colab": {
          "base_uri": "https://localhost:8080/"
        },
        "id": "pnx8Qqdg14Ki",
        "outputId": "09c31b06-8dfc-4027-afdb-3e99ea388819"
      },
      "outputs": [
        {
          "output_type": "stream",
          "name": "stdout",
          "text": [
            "SMAPE: 2.873544850037057\n",
            "RAE: 0.18694615923987767\n",
            "MRAE: 0.00024728327941782763\n",
            "MdRAE: 0.17506899993759245\n",
            "Benchmark: 20.927407436507934\n",
            "RSE: 0.03848181441422078\n",
            "RRSE: 0.19616782206626238\n",
            "MAPE: 2.881017295551076\n"
          ]
        }
      ],
      "source": [
        "import numpy as np\n",
        "import pandas as pd\n",
        "\n",
        "# 移動平均法預測函數\n",
        "def moving_average_forecast(data, window_size):\n",
        "    forecast = []\n",
        "    for i in range(len(data)):\n",
        "        if i < window_size:\n",
        "            forecast.append(data[i])\n",
        "        else:\n",
        "            forecast.append(np.mean(data[i-window_size:i]))\n",
        "    return forecast\n",
        "\n",
        "# 計算 Symmetric Mean Absolute Percentage Error (SMAPE)\n",
        "def SMAPE_calculate(y_true, y_pred):\n",
        "    n = len(y_true)\n",
        "    smape = (100 / n) * np.sum(2 * np.abs(y_pred - y_true) / (np.abs(y_pred) + np.abs(y_true)))\n",
        "    return smape\n",
        "\n",
        "# 計算 Relative Absolute Error (RAE)\n",
        "def RAE_calculate(y_true, y_pred):\n",
        "    abs_errors = np.abs(y_true - y_pred)\n",
        "    denominator = np.sum(np.abs(y_true - np.mean(y_true)))\n",
        "    rae = np.sum(abs_errors / denominator)\n",
        "    return rae\n",
        "\n",
        "# 計算 Mean Relative Absolute Error (MRAE)\n",
        "def MRAE_calculate(y_true, y_pred):\n",
        "    n = len(y_true)\n",
        "    abs_errors = np.abs(y_true - y_pred)\n",
        "    denominator = np.sum(np.abs(y_true - np.mean(y_true)))\n",
        "    rae = np.sum(abs_errors / denominator)\n",
        "    mrae = rae / n\n",
        "    return mrae\n",
        "\n",
        "# 計算 Median Relative Absolute Error (MdRAE) 並與基準值進行比較\n",
        "# 注意：預設情況下，基準值為實際值的平均值\n",
        "def MdRAE_calculate(y_true, y_pred, bench=None):\n",
        "    if bench is None:\n",
        "        bench = np.mean(y_true)\n",
        "        mdrae = np.median(np.abs(y_true - y_pred) / np.abs(y_true - bench))\n",
        "        return mdrae, bench\n",
        "    else:\n",
        "        mdrae = np.median(np.abs(y_true - y_pred) / np.abs(y_true - bench))\n",
        "        return mdrae\n",
        "\n",
        "# 計算 Relative Squared Error (RSE) 和 Root Relative Squared Error (RRSE)\n",
        "def RSE_calculate(y_true, y_pred, Root=False):\n",
        "    mse = np.mean((y_true - y_pred)**2)\n",
        "    denominator = np.var(y_true)\n",
        "    rse = mse / denominator\n",
        "\n",
        "    if Root:\n",
        "        return np.sqrt(rse)\n",
        "    else:\n",
        "        return rse\n",
        "\n",
        "# 讀取資料檔案\n",
        "data = pd.read_csv('/content/GOLD.csv')\n",
        "\n",
        "# 提取價格資料\n",
        "prices = data['Y'].values\n",
        "\n",
        "# 移動平均法預測\n",
        "window_size = 7  # 設定窗口大小\n",
        "moving_average_predictions = moving_average_forecast(prices, window_size)\n",
        "\n",
        "# 調整移動平均法的預測結果長度\n",
        "moving_average_predictions = moving_average_predictions[1:]\n",
        "\n",
        "# 實際價格（去除第一筆）\n",
        "actual_prices = prices[1:]\n",
        "\n",
        "# 計算評估指標\n",
        "smape = SMAPE_calculate(actual_prices, moving_average_predictions)\n",
        "rae = RAE_calculate(actual_prices, moving_average_predictions)\n",
        "mrae = MRAE_calculate(actual_prices, moving_average_predictions)\n",
        "mdrae, bench = MdRAE_calculate(actual_prices, moving_average_predictions)\n",
        "rse = RSE_calculate(actual_prices, moving_average_predictions)\n",
        "rrse = RSE_calculate(actual_prices, moving_average_predictions, Root=True)\n",
        "mape = np.mean(np.abs((actual_prices - moving_average_predictions) / actual_prices)) * 100\n",
        "\n",
        "# 印出評估結果\n",
        "print(\"SMAPE:\", smape)\n",
        "print(\"RAE:\", rae)\n",
        "print(\"MRAE:\", mrae)\n",
        "print(\"MdRAE:\", mdrae)\n",
        "print(\"Benchmark:\", bench)\n",
        "print(\"RSE:\", rse)\n",
        "print(\"RRSE:\", rrse)\n",
        "print(\"MAPE:\", mape)\n"
      ]
    }
  ]
}